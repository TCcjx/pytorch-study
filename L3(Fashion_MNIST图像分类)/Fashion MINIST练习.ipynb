{
 "cells": [
  {
   "cell_type": "code",
   "execution_count": 1,
   "id": "e9272970",
   "metadata": {},
   "outputs": [
    {
     "name": "stderr",
     "output_type": "stream",
     "text": [
      "C:\\Users\\22789\\Anaconda3\\envs\\pytorch_py\\lib\\site-packages\\tqdm\\auto.py:22: TqdmWarning: IProgress not found. Please update jupyter and ipywidgets. See https://ipywidgets.readthedocs.io/en/stable/user_install.html\n",
      "  from .autonotebook import tqdm as notebook_tqdm\n"
     ]
    }
   ],
   "source": [
    "import torch\n",
    "import torch.nn as nn\n",
    "import torch.nn.functional as F\n",
    "import torchvision\n",
    "import torch.optim as optim\n",
    "import numpy as np\n",
    "import matplotlib.pyplot as plt\n",
    "%matplotlib inline\n",
    "import os\n",
    "os.environ[\"KMP_DUPLICATE_LIB_OK\"]=\"TRUE\"\n",
    "from torchvision import datasets,transforms"
   ]
  },
  {
   "cell_type": "code",
   "execution_count": 2,
   "id": "fe230d4a",
   "metadata": {},
   "outputs": [],
   "source": [
    "transformation = transforms.Compose([\n",
    "        transforms.ToTensor(),#1.转换成tensor 2.转换到0~1之间 3.会将channel放在第一维度上\n",
    "])"
   ]
  },
  {
   "cell_type": "code",
   "execution_count": 8,
   "id": "3c809167",
   "metadata": {},
   "outputs": [],
   "source": [
    "train_dataset = datasets.FashionMNIST(\n",
    "    'E:\\\\python_project\\\\data/',\n",
    "    train = True,\n",
    "    transform= transformation,\n",
    "    download =True\n",
    ")"
   ]
  },
  {
   "cell_type": "code",
   "execution_count": 7,
   "id": "bba5f51b",
   "metadata": {},
   "outputs": [],
   "source": [
    "test_dataset = datasets.FashionMNIST(\n",
    "    'E:\\\\python_project\\\\data/',\n",
    "    train = False,\n",
    "    transform= transformation,\n",
    "    download =True\n",
    ")"
   ]
  },
  {
   "cell_type": "code",
   "execution_count": 13,
   "id": "c1c29028",
   "metadata": {},
   "outputs": [
    {
     "data": {
      "text/plain": [
       "torch.Size([32])"
      ]
     },
     "execution_count": 13,
     "metadata": {},
     "output_type": "execute_result"
    }
   ],
   "source": [
    "# 1.将数据集使用dataloader进行封装\n",
    "batch = 32\n",
    "train_dl = torch.utils.data.DataLoader(train_dataset,batch_size = batch,shuffle=True)\n",
    "test_dl = torch.utils.data.DataLoader(test_dataset,batch_size=batch)\n",
    "x,y = next(iter(train_dl))\n",
    "x.shape # 28*28的灰度图像\n",
    "y.shape"
   ]
  },
  {
   "cell_type": "code",
   "execution_count": 16,
   "id": "aa99f9b4",
   "metadata": {},
   "outputs": [],
   "source": [
    "# 2.建立模型\n",
    "class Model(nn.Module):\n",
    "    def __init__(self):\n",
    "        super().__init__()\n",
    "        self.linear1 = nn.Linear(28*28,128)\n",
    "        self.linear2 = nn.Linear(128,90)\n",
    "        self.linear3 = nn.Linear(90,32)\n",
    "    def forward(self,input):\n",
    "        x = input.view(-1,28*28)\n",
    "        x = F.relu(self.linear1(x))\n",
    "        x = F.relu(self.linear2(x))\n",
    "        x = self.linear3(x)\n",
    "        return x"
   ]
  },
  {
   "cell_type": "code",
   "execution_count": 17,
   "id": "86882c0f",
   "metadata": {},
   "outputs": [
    {
     "data": {
      "text/plain": [
       "Model(\n",
       "  (linear1): Linear(in_features=784, out_features=128, bias=True)\n",
       "  (linear2): Linear(in_features=128, out_features=90, bias=True)\n",
       "  (linear3): Linear(in_features=90, out_features=32, bias=True)\n",
       ")"
      ]
     },
     "execution_count": 17,
     "metadata": {},
     "output_type": "execute_result"
    }
   ],
   "source": [
    "model = Model()\n",
    "model"
   ]
  },
  {
   "cell_type": "code",
   "execution_count": 18,
   "id": "750f6016",
   "metadata": {},
   "outputs": [],
   "source": [
    "# 3.构建损失函数和优化器\n",
    "lr = 0.0001 #学习率设置为0.0001\n",
    "loss_fn = torch.nn.CrossEntropyLoss() #构建交叉熵损失函数\n",
    "opt = optim.Adam(model.parameters(),lr = 0.0001)"
   ]
  },
  {
   "cell_type": "code",
   "execution_count": 24,
   "id": "c8af1af7",
   "metadata": {},
   "outputs": [
    {
     "name": "stdout",
     "output_type": "stream",
     "text": [
      "第1轮训练完成，loss：467.59936244413257,acc:0.9099\n",
      "第1轮测试，loss：106.08605194091797,acc:0.8803\n",
      "第2轮训练完成，loss：463.1312519945204,acc:0.9108666666666667\n",
      "第2轮测试，loss：109.93986511230469,acc:0.8767\n",
      "第3轮训练完成，loss：456.34842841885984,acc:0.9124333333333333\n",
      "第3轮测试，loss：107.25313568115234,acc:0.8778\n",
      "第4轮训练完成，loss：451.00430212914944,acc:0.9131333333333334\n",
      "第4轮测试，loss：106.83448028564453,acc:0.8783\n",
      "第5轮训练完成，loss：445.77780429273844,acc:0.9138833333333334\n",
      "第5轮测试，loss：104.95809173583984,acc:0.8804\n",
      "第6轮训练完成，loss：439.7234388589859,acc:0.91525\n",
      "第6轮测试，loss：104.85466003417969,acc:0.8827\n",
      "第7轮训练完成，loss：436.0442004436627,acc:0.9165166666666666\n",
      "第7轮测试，loss：105.38098907470703,acc:0.8813\n",
      "第8轮训练完成，loss：430.5051939059049,acc:0.9173\n",
      "第8轮测试，loss：108.02659606933594,acc:0.8776\n",
      "第9轮训练完成，loss：425.7338412925601,acc:0.9173\n",
      "第9轮测试，loss：104.88577270507812,acc:0.8834\n",
      "第10轮训练完成，loss：420.0695110950619,acc:0.9190166666666667\n",
      "第10轮测试，loss：105.16266632080078,acc:0.8828\n",
      "第11轮训练完成，loss：413.70480849128217,acc:0.9204166666666667\n",
      "第11轮测试，loss：108.1497573852539,acc:0.8773\n",
      "第12轮训练完成，loss：412.8026086203754,acc:0.92055\n",
      "第12轮测试，loss：104.40467834472656,acc:0.8814\n",
      "第13轮训练完成，loss：406.1361966636032,acc:0.92135\n",
      "第13轮测试，loss：106.31913757324219,acc:0.8817\n",
      "第14轮训练完成，loss：402.27309843339026,acc:0.9224\n",
      "第14轮测试，loss：105.55266571044922,acc:0.8852\n",
      "第15轮训练完成，loss：395.8918798509985,acc:0.9239166666666667\n",
      "第15轮测试，loss：107.14618682861328,acc:0.8801\n",
      "第16轮训练完成，loss：393.42062086611986,acc:0.9240666666666667\n",
      "第16轮测试，loss：105.09336853027344,acc:0.8827\n",
      "第17轮训练完成，loss：388.9701205883175,acc:0.9255333333333333\n",
      "第17轮测试，loss：106.04830169677734,acc:0.8835\n",
      "第18轮训练完成，loss：382.56403344869614,acc:0.9272166666666667\n",
      "第18轮测试，loss：109.30361938476562,acc:0.8826\n",
      "第19轮训练完成，loss：378.58390907384455,acc:0.9275333333333333\n",
      "第19轮测试，loss：106.27303314208984,acc:0.8818\n",
      "第20轮训练完成，loss：375.91497941315174,acc:0.9285333333333333\n",
      "第20轮测试，loss：106.92522430419922,acc:0.8838\n",
      "第21轮训练完成，loss：371.1338587049395,acc:0.9291\n",
      "第21轮测试，loss：106.8070297241211,acc:0.8858\n",
      "第22轮训练完成，loss：367.0848004631698,acc:0.9300833333333334\n",
      "第22轮测试，loss：106.11502075195312,acc:0.8832\n",
      "第23轮训练完成，loss：362.82224606722593,acc:0.93125\n",
      "第23轮测试，loss：105.36882019042969,acc:0.8849\n",
      "第24轮训练完成，loss：359.0142711456865,acc:0.9315166666666667\n",
      "第24轮测试，loss：107.32460021972656,acc:0.8823\n",
      "第25轮训练完成，loss：354.85535505227745,acc:0.9317833333333333\n",
      "第25轮测试，loss：110.04286193847656,acc:0.8807\n",
      "第26轮训练完成，loss：350.74577303789556,acc:0.9316\n",
      "第26轮测试，loss：105.73455047607422,acc:0.8817\n",
      "第27轮训练完成，loss：345.34995218738914,acc:0.9343\n",
      "第27轮测试，loss：106.75936126708984,acc:0.888\n",
      "第28轮训练完成，loss：341.6705978885293,acc:0.9342\n",
      "第28轮测试，loss：107.24506378173828,acc:0.8843\n",
      "第29轮训练完成，loss：339.2795073920861,acc:0.9347166666666666\n",
      "第29轮测试，loss：110.49182891845703,acc:0.8852\n",
      "第30轮训练完成，loss：336.5893304888159,acc:0.93545\n",
      "第30轮测试，loss：107.97053527832031,acc:0.8862\n"
     ]
    }
   ],
   "source": [
    "# 4.训练函数\n",
    "epoches = 30\n",
    "for epoch in range(epoches):\n",
    "    correct = 0\n",
    "    total = 0\n",
    "    running_loss = 0\n",
    "    for x,y in train_dl:\n",
    "        y_pred = model(x)\n",
    "        loss = loss_fn(y_pred,y)\n",
    "        opt.zero_grad()\n",
    "        loss.backward()\n",
    "        opt.step()\n",
    "        with torch.no_grad():\n",
    "            y_pred = torch.argmax(y_pred,dim=1)\n",
    "            correct += (y_pred==y).sum().item()\n",
    "            total += y.size(0)\n",
    "            running_loss += loss.item()\n",
    "    print(f\"第{epoch+1}轮训练完成，loss：{running_loss},acc:{correct/total}\")\n",
    "    test_correct = 0\n",
    "    test_total = 0\n",
    "    test_running_loss =0\n",
    "    with torch.no_grad():\n",
    "        for x,y in test_dl:\n",
    "            y_pred = model(x)\n",
    "            loss = loss_fn(y_pred,y)\n",
    "            y_pred = torch.argmax(y_pred,dim=1)\n",
    "            test_total += y.size(0)\n",
    "            test_correct += (y_pred==y).sum().item()\n",
    "            test_running_loss += loss\n",
    "        print(f\"第{epoch+1}轮测试，loss：{test_running_loss},acc:{test_correct/test_total}\")\n",
    "        "
   ]
  },
  {
   "cell_type": "code",
   "execution_count": null,
   "id": "24f7d3f0",
   "metadata": {},
   "outputs": [],
   "source": []
  }
 ],
 "metadata": {
  "kernelspec": {
   "display_name": "pytorch_py",
   "language": "python",
   "name": "pytorch_py"
  },
  "language_info": {
   "codemirror_mode": {
    "name": "ipython",
    "version": 3
   },
   "file_extension": ".py",
   "mimetype": "text/x-python",
   "name": "python",
   "nbconvert_exporter": "python",
   "pygments_lexer": "ipython3",
   "version": "3.8.13"
  }
 },
 "nbformat": 4,
 "nbformat_minor": 5
}
